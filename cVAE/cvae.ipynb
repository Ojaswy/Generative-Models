{
 "cells": [
  {
   "cell_type": "code",
   "execution_count": 116,
   "metadata": {},
   "outputs": [],
   "source": [
    "import torch\n",
    "import numpy as np\n",
    "import torch.nn.functional as F\n",
    "import torchvision\n",
    "import os, time\n",
    "from tqdm import tqdm\n",
    "import torch.nn as nn\n",
    "from collections import OrderedDict\n",
    "#from models import loss, cVAE"
   ]
  },
  {
   "cell_type": "code",
   "execution_count": 117,
   "metadata": {},
   "outputs": [],
   "source": [
    "class Flatten(nn.Module):\n",
    "    def __init__(self):\n",
    "        super(Flatten, self).__init__()\n",
    "    def forward(self, x):\n",
    "        batch_size = x.shape[0]\n",
    "        return x.view(batch_size, -1)\n",
    "\n",
    "class MLP(nn.Module):\n",
    "    def __init__(self, hidden_size, last_activation = True):\n",
    "        super(MLP, self).__init__()\n",
    "        q = []\n",
    "        for i in range(len(hidden_size)-1):\n",
    "            in_dim = hidden_size[i]\n",
    "            out_dim = hidden_size[i+1]\n",
    "            q.append((\"Linear_%d\" % i, nn.Linear(in_dim, out_dim)))\n",
    "            if (i < len(hidden_size)-2) or ((i == len(hidden_size) - 2) and (last_activation)):\n",
    "                q.append((\"BatchNorm_%d\" % i, nn.BatchNorm1d(out_dim)))\n",
    "                q.append((\"ReLU_%d\" % i, nn.ReLU(inplace=True)))\n",
    "        self.mlp = nn.Sequential(OrderedDict(q))\n",
    "    def forward(self, x):\n",
    "        return self.mlp(x)\n",
    "    \n",
    "class Encoder(nn.Module):\n",
    "    def __init__(self, shape, nhid = 16, ncond = 0):\n",
    "        super(Encoder, self).__init__()\n",
    "        c, h, w = shape\n",
    "        ww = ((w-8)//2 - 4)//2\n",
    "        hh = ((h-8)//2 - 4)//2\n",
    "        self.encode = nn.Sequential(nn.Conv2d(c, 16, 5, padding = 0), nn.BatchNorm2d(16), nn.ReLU(inplace = True), \n",
    "                                    nn.Conv2d(16, 32, 5, padding = 0), nn.BatchNorm2d(32), nn.ReLU(inplace = True), \n",
    "                                    nn.MaxPool2d(2, 2),\n",
    "                                    nn.Conv2d(32, 64, 3, padding = 0), nn.BatchNorm2d(64), nn.ReLU(inplace = True), \n",
    "                                    nn.Conv2d(64, 64, 3, padding = 0), nn.BatchNorm2d(64), nn.ReLU(inplace = True), \n",
    "                                    nn.MaxPool2d(2, 2),\n",
    "                                    Flatten(), MLP([ww*hh*64, 256, 128])\n",
    "                                   )\n",
    "        self.calc_mean = MLP([128+ncond, 64, nhid], last_activation = False)\n",
    "        self.calc_logvar = MLP([128+ncond, 64, nhid], last_activation = False)\n",
    "    def forward(self, x, y = None):\n",
    "        x = self.encode(x)\n",
    "        if (y is None):\n",
    "            return self.calc_mean(x), self.calc_logvar(x)\n",
    "        else:\n",
    "            return self.calc_mean(torch.cat((x, y), dim=1)), self.calc_logvar(torch.cat((x, y), dim=1))\n",
    "\n",
    "class Decoder(nn.Module):\n",
    "    def __init__(self, shape, nhid = 16, ncond = 0):\n",
    "        super(Decoder, self).__init__()\n",
    "        c, w, h = shape\n",
    "        self.shape = shape\n",
    "        self.decode = nn.Sequential(MLP([nhid+ncond, 64, 128, 256, c*w*h], last_activation = False), nn.Sigmoid())\n",
    "    def forward(self, z, y = None):\n",
    "        c, w, h = self.shape\n",
    "        if (y is None):\n",
    "            return self.decode(z).view(-1, c, w, h)\n",
    "        else:\n",
    "            return self.decode(torch.cat((z, y), dim=1)).view(-1, c, w, h)\n"
   ]
  },
  {
   "cell_type": "code",
   "execution_count": 118,
   "metadata": {},
   "outputs": [],
   "source": [
    "class cVAE(nn.Module):\n",
    "    def __init__(self, shape, nclass, nhid = 16, ncond = 16):\n",
    "        super(cVAE, self).__init__()\n",
    "        self.dim = nhid\n",
    "        self.encoder = Encoder(shape, nhid, ncond = ncond)\n",
    "        self.decoder = Decoder(shape, nhid, ncond = ncond)\n",
    "        self.label_embedding = nn.Embedding(nclass, ncond)\n",
    "        \n",
    "    def sampling(self, mean, logvar):\n",
    "        eps = torch.randn(mean.shape).to(device)\n",
    "        sigma = 0.5 * torch.exp(logvar)\n",
    "        return mean + eps * sigma\n",
    "    \n",
    "    def forward(self, x, y):\n",
    "        y = self.label_embedding(y)\n",
    "        mean, logvar = self.encoder(x, y)\n",
    "        z = self.sampling(mean, logvar)\n",
    "        return self.decoder(z, y), mean, logvar\n",
    "\n",
    "    def generate(self, class_idx):\n",
    "        tclass = type(class_idx)\n",
    "        #print(\"Working\")\n",
    "        #print(tclass)\n",
    "        if (type(class_idx) is int):\n",
    "            class_idx = torch.tensor(class_idx)\n",
    "        class_idx = class_idx.to(device)\n",
    "        if (len(class_idx.shape) == 0):\n",
    "            batch_size = None\n",
    "            #print(batch_size)\n",
    "            class_idx = class_idx.unsqueeze(0)\n",
    "            z = torch.randn((1, self.dim)).to(device)\n",
    "        else:\n",
    "            batch_size = class_idx.shape[0]\n",
    "            z = torch.randn((batch_size, self.dim)).to(device) \n",
    "        y = self.label_embedding(class_idx)\n",
    "        res = self.decoder(z, y)\n",
    "        if not batch_size:\n",
    "            res = res.squeeze(0)\n",
    "        return res\n",
    "    \n",
    "\n",
    "    \n",
    "BCE_loss = nn.BCELoss(reduction = \"sum\")\n",
    "def loss(X, X_hat, mean, logvar):\n",
    "    reconstruction_loss = BCE_loss(X_hat, X)\n",
    "    KL_divergence = 0.5 * torch.sum(-1 - logvar + torch.exp(logvar) + mean**2)\n",
    "    return reconstruction_loss + KL_divergence"
   ]
  },
  {
   "cell_type": "code",
   "execution_count": 119,
   "metadata": {},
   "outputs": [],
   "source": [
    "def crop(x, low, high):\n",
    "    x[x<=low] = low\n",
    "    x[x>=high] = high\n",
    "    return x\n",
    "\n",
    "transform = torchvision.transforms.Compose([\n",
    "    torchvision.transforms.ToTensor(),\n",
    "    torchvision.transforms.Lambda(lambda x: crop(x, 0., 1.))\n",
    "])\n",
    "\n",
    "train_data = torchvision.datasets.MNIST(root='/datasets', train=True, download=True, transform=transform)\n",
    "train_iter = torch.utils.data.DataLoader(train_data, batch_size=512, shuffle=True)"
   ]
  },
  {
   "cell_type": "code",
   "execution_count": 120,
   "metadata": {},
   "outputs": [
    {
     "data": {
      "text/plain": [
       "cVAE(\n",
       "  (encoder): Encoder(\n",
       "    (encode): Sequential(\n",
       "      (0): Conv2d(1, 16, kernel_size=(5, 5), stride=(1, 1))\n",
       "      (1): BatchNorm2d(16, eps=1e-05, momentum=0.1, affine=True, track_running_stats=True)\n",
       "      (2): ReLU(inplace=True)\n",
       "      (3): Conv2d(16, 32, kernel_size=(5, 5), stride=(1, 1))\n",
       "      (4): BatchNorm2d(32, eps=1e-05, momentum=0.1, affine=True, track_running_stats=True)\n",
       "      (5): ReLU(inplace=True)\n",
       "      (6): MaxPool2d(kernel_size=2, stride=2, padding=0, dilation=1, ceil_mode=False)\n",
       "      (7): Conv2d(32, 64, kernel_size=(3, 3), stride=(1, 1))\n",
       "      (8): BatchNorm2d(64, eps=1e-05, momentum=0.1, affine=True, track_running_stats=True)\n",
       "      (9): ReLU(inplace=True)\n",
       "      (10): Conv2d(64, 64, kernel_size=(3, 3), stride=(1, 1))\n",
       "      (11): BatchNorm2d(64, eps=1e-05, momentum=0.1, affine=True, track_running_stats=True)\n",
       "      (12): ReLU(inplace=True)\n",
       "      (13): MaxPool2d(kernel_size=2, stride=2, padding=0, dilation=1, ceil_mode=False)\n",
       "      (14): Flatten()\n",
       "      (15): MLP(\n",
       "        (mlp): Sequential(\n",
       "          (Linear_0): Linear(in_features=576, out_features=256, bias=True)\n",
       "          (BatchNorm_0): BatchNorm1d(256, eps=1e-05, momentum=0.1, affine=True, track_running_stats=True)\n",
       "          (ReLU_0): ReLU(inplace=True)\n",
       "          (Linear_1): Linear(in_features=256, out_features=128, bias=True)\n",
       "          (BatchNorm_1): BatchNorm1d(128, eps=1e-05, momentum=0.1, affine=True, track_running_stats=True)\n",
       "          (ReLU_1): ReLU(inplace=True)\n",
       "        )\n",
       "      )\n",
       "    )\n",
       "    (calc_mean): MLP(\n",
       "      (mlp): Sequential(\n",
       "        (Linear_0): Linear(in_features=144, out_features=64, bias=True)\n",
       "        (BatchNorm_0): BatchNorm1d(64, eps=1e-05, momentum=0.1, affine=True, track_running_stats=True)\n",
       "        (ReLU_0): ReLU(inplace=True)\n",
       "        (Linear_1): Linear(in_features=64, out_features=2, bias=True)\n",
       "      )\n",
       "    )\n",
       "    (calc_logvar): MLP(\n",
       "      (mlp): Sequential(\n",
       "        (Linear_0): Linear(in_features=144, out_features=64, bias=True)\n",
       "        (BatchNorm_0): BatchNorm1d(64, eps=1e-05, momentum=0.1, affine=True, track_running_stats=True)\n",
       "        (ReLU_0): ReLU(inplace=True)\n",
       "        (Linear_1): Linear(in_features=64, out_features=2, bias=True)\n",
       "      )\n",
       "    )\n",
       "  )\n",
       "  (decoder): Decoder(\n",
       "    (decode): Sequential(\n",
       "      (0): MLP(\n",
       "        (mlp): Sequential(\n",
       "          (Linear_0): Linear(in_features=18, out_features=64, bias=True)\n",
       "          (BatchNorm_0): BatchNorm1d(64, eps=1e-05, momentum=0.1, affine=True, track_running_stats=True)\n",
       "          (ReLU_0): ReLU(inplace=True)\n",
       "          (Linear_1): Linear(in_features=64, out_features=128, bias=True)\n",
       "          (BatchNorm_1): BatchNorm1d(128, eps=1e-05, momentum=0.1, affine=True, track_running_stats=True)\n",
       "          (ReLU_1): ReLU(inplace=True)\n",
       "          (Linear_2): Linear(in_features=128, out_features=256, bias=True)\n",
       "          (BatchNorm_2): BatchNorm1d(256, eps=1e-05, momentum=0.1, affine=True, track_running_stats=True)\n",
       "          (ReLU_2): ReLU(inplace=True)\n",
       "          (Linear_3): Linear(in_features=256, out_features=784, bias=True)\n",
       "        )\n",
       "      )\n",
       "      (1): Sigmoid()\n",
       "    )\n",
       "  )\n",
       "  (label_embedding): Embedding(10, 16)\n",
       ")"
      ]
     },
     "execution_count": 120,
     "metadata": {},
     "output_type": "execute_result"
    }
   ],
   "source": [
    "device = torch.device('cuda' if torch.cuda.is_available() else 'cpu')\n",
    "\n",
    "net = cVAE((1, 28, 28), 10, nhid = 2, ncond = 16)\n",
    "net.to(device)\n",
    "#print(net)"
   ]
  },
  {
   "cell_type": "code",
   "execution_count": 121,
   "metadata": {},
   "outputs": [],
   "source": [
    "lr = 0.01\n",
    "optimizer = torch.optim.Adam(filter(lambda p: p.requires_grad, net.parameters()), lr=lr, weight_decay = 0.0001)\n",
    "\n",
    "def adjust_lr(optimizer, decay_rate=0.95):\n",
    "    for param_group in optimizer.param_groups:\n",
    "        param_group['lr'] *= decay_rate\n",
    "\n",
    "retrain = True\n",
    "if os.path.exists(save_name):\n",
    "    print(\"Model parameters have already been trained before. Retrain ? (y/n)\")\n",
    "    ans = input()\n",
    "    if not (ans == 'y'):\n",
    "        checkpoint = torch.load(save_name, map_location = device)\n",
    "        net.load_state_dict(checkpoint[\"net\"])\n",
    "        optimizer.load_state_dict(checkpoint[\"optimizer\"])\n",
    "        for g in optimizer.param_groups:\n",
    "            g['lr'] = lr\n",
    "        \n",
    "max_epochs = 50\n",
    "net = net.to(device)"
   ]
  },
  {
   "cell_type": "code",
   "execution_count": 122,
   "metadata": {},
   "outputs": [
    {
     "name": "stderr",
     "output_type": "stream",
     "text": [
      "\r",
      "  0%|                     | 0/118 [00:00<?, ?it/s]"
     ]
    },
    {
     "name": "stdout",
     "output_type": "stream",
     "text": [
      "training on  cpu\n"
     ]
    },
    {
     "name": "stderr",
     "output_type": "stream",
     "text": [
      "100%|███████████| 118/118 [06:06<00:00,  3.10s/it]\n",
      "  0%|                     | 0/118 [00:00<?, ?it/s]"
     ]
    },
    {
     "name": "stdout",
     "output_type": "stream",
     "text": [
      "epoch 0, train loss 161.2360 , time 366.4 sec\n"
     ]
    },
    {
     "name": "stderr",
     "output_type": "stream",
     "text": [
      "100%|███████████| 118/118 [01:15<00:00,  1.56it/s]\n",
      "  0%|                     | 0/118 [00:00<?, ?it/s]"
     ]
    },
    {
     "name": "stdout",
     "output_type": "stream",
     "text": [
      "epoch 1, train loss 135.5052 , time 75.5 sec\n"
     ]
    },
    {
     "name": "stderr",
     "output_type": "stream",
     "text": [
      "100%|███████████| 118/118 [01:17<00:00,  1.51it/s]\n",
      "  0%|                     | 0/118 [00:00<?, ?it/s]"
     ]
    },
    {
     "name": "stdout",
     "output_type": "stream",
     "text": [
      "epoch 2, train loss 131.8830 , time 77.9 sec\n"
     ]
    },
    {
     "name": "stderr",
     "output_type": "stream",
     "text": [
      "100%|███████████| 118/118 [01:16<00:00,  1.55it/s]\n",
      "  0%|                     | 0/118 [00:00<?, ?it/s]"
     ]
    },
    {
     "name": "stdout",
     "output_type": "stream",
     "text": [
      "epoch 3, train loss 130.6464 , time 76.4 sec\n"
     ]
    },
    {
     "name": "stderr",
     "output_type": "stream",
     "text": [
      "100%|███████████| 118/118 [01:16<00:00,  1.54it/s]\n",
      "  0%|                     | 0/118 [00:00<?, ?it/s]"
     ]
    },
    {
     "name": "stdout",
     "output_type": "stream",
     "text": [
      "epoch 4, train loss 129.6698 , time 76.5 sec\n"
     ]
    },
    {
     "name": "stderr",
     "output_type": "stream",
     "text": [
      "100%|███████████| 118/118 [01:16<00:00,  1.54it/s]\n",
      "  0%|                     | 0/118 [00:00<?, ?it/s]"
     ]
    },
    {
     "name": "stdout",
     "output_type": "stream",
     "text": [
      "epoch 5, train loss 128.8231 , time 76.5 sec\n"
     ]
    },
    {
     "name": "stderr",
     "output_type": "stream",
     "text": [
      "100%|███████████| 118/118 [01:16<00:00,  1.54it/s]\n",
      "  0%|                     | 0/118 [00:00<?, ?it/s]"
     ]
    },
    {
     "name": "stdout",
     "output_type": "stream",
     "text": [
      "epoch 6, train loss 128.3577 , time 76.4 sec\n"
     ]
    },
    {
     "name": "stderr",
     "output_type": "stream",
     "text": [
      "100%|███████████| 118/118 [01:16<00:00,  1.54it/s]\n",
      "  0%|                     | 0/118 [00:00<?, ?it/s]"
     ]
    },
    {
     "name": "stdout",
     "output_type": "stream",
     "text": [
      "epoch 7, train loss 127.7691 , time 76.8 sec\n"
     ]
    },
    {
     "name": "stderr",
     "output_type": "stream",
     "text": [
      "100%|███████████| 118/118 [01:17<00:00,  1.52it/s]\n",
      "  0%|                     | 0/118 [00:00<?, ?it/s]"
     ]
    },
    {
     "name": "stdout",
     "output_type": "stream",
     "text": [
      "epoch 8, train loss 127.6775 , time 77.4 sec\n"
     ]
    },
    {
     "name": "stderr",
     "output_type": "stream",
     "text": [
      "100%|███████████| 118/118 [01:16<00:00,  1.55it/s]\n",
      "  0%|                     | 0/118 [00:00<?, ?it/s]"
     ]
    },
    {
     "name": "stdout",
     "output_type": "stream",
     "text": [
      "epoch 9, train loss 126.9481 , time 76.2 sec\n"
     ]
    },
    {
     "name": "stderr",
     "output_type": "stream",
     "text": [
      "100%|███████████| 118/118 [01:18<00:00,  1.51it/s]\n",
      "  0%|                     | 0/118 [00:00<?, ?it/s]"
     ]
    },
    {
     "name": "stdout",
     "output_type": "stream",
     "text": [
      "epoch 10, train loss 126.6780 , time 78.1 sec\n"
     ]
    },
    {
     "name": "stderr",
     "output_type": "stream",
     "text": [
      "100%|███████████| 118/118 [01:17<00:00,  1.53it/s]\n",
      "  0%|                     | 0/118 [00:00<?, ?it/s]"
     ]
    },
    {
     "name": "stdout",
     "output_type": "stream",
     "text": [
      "epoch 11, train loss 126.3077 , time 77.3 sec\n"
     ]
    },
    {
     "name": "stderr",
     "output_type": "stream",
     "text": [
      "100%|███████████| 118/118 [01:17<00:00,  1.53it/s]\n",
      "  0%|                     | 0/118 [00:00<?, ?it/s]"
     ]
    },
    {
     "name": "stdout",
     "output_type": "stream",
     "text": [
      "epoch 12, train loss 126.1411 , time 77.2 sec\n"
     ]
    },
    {
     "name": "stderr",
     "output_type": "stream",
     "text": [
      "100%|███████████| 118/118 [01:18<00:00,  1.51it/s]\n",
      "  0%|                     | 0/118 [00:00<?, ?it/s]"
     ]
    },
    {
     "name": "stdout",
     "output_type": "stream",
     "text": [
      "epoch 13, train loss 126.0175 , time 78.1 sec\n"
     ]
    },
    {
     "name": "stderr",
     "output_type": "stream",
     "text": [
      "100%|███████████| 118/118 [03:34<00:00,  1.81s/it]\n",
      "  0%|                     | 0/118 [00:00<?, ?it/s]"
     ]
    },
    {
     "name": "stdout",
     "output_type": "stream",
     "text": [
      "epoch 14, train loss 125.5782 , time 214.2 sec\n"
     ]
    },
    {
     "name": "stderr",
     "output_type": "stream",
     "text": [
      "100%|███████████| 118/118 [01:17<00:00,  1.52it/s]\n",
      "  0%|                     | 0/118 [00:00<?, ?it/s]"
     ]
    },
    {
     "name": "stdout",
     "output_type": "stream",
     "text": [
      "epoch 15, train loss 125.6191 , time 77.6 sec\n"
     ]
    },
    {
     "name": "stderr",
     "output_type": "stream",
     "text": [
      "100%|███████████| 118/118 [01:16<00:00,  1.54it/s]\n",
      "  0%|                     | 0/118 [00:00<?, ?it/s]"
     ]
    },
    {
     "name": "stdout",
     "output_type": "stream",
     "text": [
      "epoch 16, train loss 125.0936 , time 76.7 sec\n"
     ]
    },
    {
     "name": "stderr",
     "output_type": "stream",
     "text": [
      "100%|███████████| 118/118 [01:34<00:00,  1.25it/s]\n",
      "  0%|                     | 0/118 [00:00<?, ?it/s]"
     ]
    },
    {
     "name": "stdout",
     "output_type": "stream",
     "text": [
      "epoch 17, train loss 124.8996 , time 94.6 sec\n"
     ]
    },
    {
     "name": "stderr",
     "output_type": "stream",
     "text": [
      "100%|███████████| 118/118 [02:49<00:00,  1.43s/it]\n",
      "  0%|                     | 0/118 [00:00<?, ?it/s]"
     ]
    },
    {
     "name": "stdout",
     "output_type": "stream",
     "text": [
      "epoch 18, train loss 124.7434 , time 169.1 sec\n"
     ]
    },
    {
     "name": "stderr",
     "output_type": "stream",
     "text": [
      "100%|███████████| 118/118 [01:16<00:00,  1.55it/s]\n",
      "  0%|                     | 0/118 [00:00<?, ?it/s]"
     ]
    },
    {
     "name": "stdout",
     "output_type": "stream",
     "text": [
      "epoch 19, train loss 124.6446 , time 76.1 sec\n"
     ]
    },
    {
     "name": "stderr",
     "output_type": "stream",
     "text": [
      "100%|███████████| 118/118 [01:16<00:00,  1.55it/s]\n",
      "  0%|                     | 0/118 [00:00<?, ?it/s]"
     ]
    },
    {
     "name": "stdout",
     "output_type": "stream",
     "text": [
      "epoch 20, train loss 125.2006 , time 76.3 sec\n"
     ]
    },
    {
     "name": "stderr",
     "output_type": "stream",
     "text": [
      "100%|███████████| 118/118 [02:12<00:00,  1.13s/it]\n",
      "  0%|                     | 0/118 [00:00<?, ?it/s]"
     ]
    },
    {
     "name": "stdout",
     "output_type": "stream",
     "text": [
      "epoch 21, train loss 124.7419 , time 133.0 sec\n"
     ]
    },
    {
     "name": "stderr",
     "output_type": "stream",
     "text": [
      "100%|███████████| 118/118 [02:48<00:00,  1.42s/it]\n",
      "  0%|                     | 0/118 [00:00<?, ?it/s]"
     ]
    },
    {
     "name": "stdout",
     "output_type": "stream",
     "text": [
      "epoch 22, train loss 124.3163 , time 168.1 sec\n"
     ]
    },
    {
     "name": "stderr",
     "output_type": "stream",
     "text": [
      "100%|███████████| 118/118 [02:52<00:00,  1.47s/it]\n",
      "  0%|                     | 0/118 [00:00<?, ?it/s]"
     ]
    },
    {
     "name": "stdout",
     "output_type": "stream",
     "text": [
      "epoch 23, train loss 124.1154 , time 172.9 sec\n"
     ]
    },
    {
     "name": "stderr",
     "output_type": "stream",
     "text": [
      "100%|███████████| 118/118 [01:29<00:00,  1.31it/s]\n",
      "  0%|                     | 0/118 [00:00<?, ?it/s]"
     ]
    },
    {
     "name": "stdout",
     "output_type": "stream",
     "text": [
      "epoch 24, train loss 123.9228 , time 89.8 sec\n"
     ]
    },
    {
     "name": "stderr",
     "output_type": "stream",
     "text": [
      "100%|███████████| 118/118 [01:15<00:00,  1.56it/s]\n",
      "  0%|                     | 0/118 [00:00<?, ?it/s]"
     ]
    },
    {
     "name": "stdout",
     "output_type": "stream",
     "text": [
      "epoch 25, train loss 123.9317 , time 75.5 sec\n"
     ]
    },
    {
     "name": "stderr",
     "output_type": "stream",
     "text": [
      "100%|███████████| 118/118 [01:16<00:00,  1.54it/s]\n",
      "  0%|                     | 0/118 [00:00<?, ?it/s]"
     ]
    },
    {
     "name": "stdout",
     "output_type": "stream",
     "text": [
      "epoch 26, train loss 123.7856 , time 76.6 sec\n"
     ]
    },
    {
     "name": "stderr",
     "output_type": "stream",
     "text": [
      "100%|███████████| 118/118 [02:03<00:00,  1.05s/it]\n",
      "  0%|                     | 0/118 [00:00<?, ?it/s]"
     ]
    },
    {
     "name": "stdout",
     "output_type": "stream",
     "text": [
      "epoch 27, train loss 123.5466 , time 123.8 sec\n"
     ]
    },
    {
     "name": "stderr",
     "output_type": "stream",
     "text": [
      "100%|███████████| 118/118 [02:21<00:00,  1.20s/it]\n",
      "  0%|                     | 0/118 [00:00<?, ?it/s]"
     ]
    },
    {
     "name": "stdout",
     "output_type": "stream",
     "text": [
      "epoch 28, train loss 123.4696 , time 141.8 sec\n"
     ]
    },
    {
     "name": "stderr",
     "output_type": "stream",
     "text": [
      "100%|███████████| 118/118 [01:16<00:00,  1.55it/s]\n",
      "  0%|                     | 0/118 [00:00<?, ?it/s]"
     ]
    },
    {
     "name": "stdout",
     "output_type": "stream",
     "text": [
      "epoch 29, train loss 123.2554 , time 76.3 sec\n"
     ]
    },
    {
     "name": "stderr",
     "output_type": "stream",
     "text": [
      "100%|███████████| 118/118 [01:52<00:00,  1.05it/s]\n",
      "  0%|                     | 0/118 [00:00<?, ?it/s]"
     ]
    },
    {
     "name": "stdout",
     "output_type": "stream",
     "text": [
      "epoch 30, train loss 123.0895 , time 112.4 sec\n"
     ]
    },
    {
     "name": "stderr",
     "output_type": "stream",
     "text": [
      "100%|███████████| 118/118 [01:38<00:00,  1.20it/s]\n",
      "  0%|                     | 0/118 [00:00<?, ?it/s]"
     ]
    },
    {
     "name": "stdout",
     "output_type": "stream",
     "text": [
      "epoch 31, train loss 122.8589 , time 98.4 sec\n"
     ]
    },
    {
     "name": "stderr",
     "output_type": "stream",
     "text": [
      "100%|███████████| 118/118 [01:16<00:00,  1.54it/s]\n",
      "  0%|                     | 0/118 [00:00<?, ?it/s]"
     ]
    },
    {
     "name": "stdout",
     "output_type": "stream",
     "text": [
      "epoch 32, train loss 122.6952 , time 76.7 sec\n"
     ]
    },
    {
     "name": "stderr",
     "output_type": "stream",
     "text": [
      "100%|███████████| 118/118 [01:50<00:00,  1.07it/s]\n",
      "  0%|                     | 0/118 [00:00<?, ?it/s]"
     ]
    },
    {
     "name": "stdout",
     "output_type": "stream",
     "text": [
      "epoch 33, train loss 122.6711 , time 110.5 sec\n"
     ]
    },
    {
     "name": "stderr",
     "output_type": "stream",
     "text": [
      "100%|███████████| 118/118 [03:08<00:00,  1.59s/it]\n",
      "  0%|                     | 0/118 [00:00<?, ?it/s]"
     ]
    },
    {
     "name": "stdout",
     "output_type": "stream",
     "text": [
      "epoch 34, train loss 122.5661 , time 188.2 sec\n"
     ]
    },
    {
     "name": "stderr",
     "output_type": "stream",
     "text": [
      "100%|███████████| 118/118 [01:40<00:00,  1.18it/s]\n",
      "  0%|                     | 0/118 [00:00<?, ?it/s]"
     ]
    },
    {
     "name": "stdout",
     "output_type": "stream",
     "text": [
      "epoch 35, train loss 122.4129 , time 100.1 sec\n"
     ]
    },
    {
     "name": "stderr",
     "output_type": "stream",
     "text": [
      "100%|███████████| 118/118 [03:12<00:00,  1.63s/it]\n",
      "  0%|                     | 0/118 [00:00<?, ?it/s]"
     ]
    },
    {
     "name": "stdout",
     "output_type": "stream",
     "text": [
      "epoch 36, train loss 122.3494 , time 192.3 sec\n"
     ]
    },
    {
     "name": "stderr",
     "output_type": "stream",
     "text": [
      "100%|███████████| 118/118 [01:17<00:00,  1.52it/s]\n",
      "  0%|                     | 0/118 [00:00<?, ?it/s]"
     ]
    },
    {
     "name": "stdout",
     "output_type": "stream",
     "text": [
      "epoch 37, train loss 122.1493 , time 77.7 sec\n"
     ]
    },
    {
     "name": "stderr",
     "output_type": "stream",
     "text": [
      "100%|███████████| 118/118 [01:16<00:00,  1.54it/s]\n",
      "  0%|                     | 0/118 [00:00<?, ?it/s]"
     ]
    },
    {
     "name": "stdout",
     "output_type": "stream",
     "text": [
      "epoch 38, train loss 122.0896 , time 76.6 sec\n"
     ]
    },
    {
     "name": "stderr",
     "output_type": "stream",
     "text": [
      "100%|███████████| 118/118 [01:17<00:00,  1.52it/s]\n",
      "  0%|                     | 0/118 [00:00<?, ?it/s]"
     ]
    },
    {
     "name": "stdout",
     "output_type": "stream",
     "text": [
      "epoch 39, train loss 121.9317 , time 77.7 sec\n"
     ]
    },
    {
     "name": "stderr",
     "output_type": "stream",
     "text": [
      "100%|███████████| 118/118 [01:18<00:00,  1.51it/s]\n",
      "  0%|                     | 0/118 [00:00<?, ?it/s]"
     ]
    },
    {
     "name": "stdout",
     "output_type": "stream",
     "text": [
      "epoch 40, train loss 121.9192 , time 78.3 sec\n"
     ]
    },
    {
     "name": "stderr",
     "output_type": "stream",
     "text": [
      "100%|███████████| 118/118 [02:19<00:00,  1.18s/it]\n",
      "  0%|                     | 0/118 [00:00<?, ?it/s]"
     ]
    },
    {
     "name": "stdout",
     "output_type": "stream",
     "text": [
      "epoch 41, train loss 121.8269 , time 139.3 sec\n"
     ]
    },
    {
     "name": "stderr",
     "output_type": "stream",
     "text": [
      "100%|███████████| 118/118 [03:14<00:00,  1.65s/it]\n",
      "  0%|                     | 0/118 [00:00<?, ?it/s]"
     ]
    },
    {
     "name": "stdout",
     "output_type": "stream",
     "text": [
      "epoch 42, train loss 121.6379 , time 194.4 sec\n"
     ]
    },
    {
     "name": "stderr",
     "output_type": "stream",
     "text": [
      "100%|███████████| 118/118 [01:17<00:00,  1.52it/s]\n",
      "  0%|                     | 0/118 [00:00<?, ?it/s]"
     ]
    },
    {
     "name": "stdout",
     "output_type": "stream",
     "text": [
      "epoch 43, train loss 121.6222 , time 77.8 sec\n"
     ]
    },
    {
     "name": "stderr",
     "output_type": "stream",
     "text": [
      "100%|███████████| 118/118 [01:16<00:00,  1.55it/s]\n",
      "  0%|                     | 0/118 [00:00<?, ?it/s]"
     ]
    },
    {
     "name": "stdout",
     "output_type": "stream",
     "text": [
      "epoch 44, train loss 121.6010 , time 76.4 sec\n"
     ]
    },
    {
     "name": "stderr",
     "output_type": "stream",
     "text": [
      "100%|███████████| 118/118 [01:16<00:00,  1.54it/s]\n",
      "  0%|                     | 0/118 [00:00<?, ?it/s]"
     ]
    },
    {
     "name": "stdout",
     "output_type": "stream",
     "text": [
      "epoch 45, train loss 121.5862 , time 76.8 sec\n"
     ]
    },
    {
     "name": "stderr",
     "output_type": "stream",
     "text": [
      "100%|███████████| 118/118 [01:17<00:00,  1.53it/s]\n",
      "  0%|                     | 0/118 [00:00<?, ?it/s]"
     ]
    },
    {
     "name": "stdout",
     "output_type": "stream",
     "text": [
      "epoch 46, train loss 121.5410 , time 77.2 sec\n"
     ]
    },
    {
     "name": "stderr",
     "output_type": "stream",
     "text": [
      "100%|███████████| 118/118 [01:16<00:00,  1.54it/s]\n",
      "  0%|                     | 0/118 [00:00<?, ?it/s]"
     ]
    },
    {
     "name": "stdout",
     "output_type": "stream",
     "text": [
      "epoch 47, train loss 121.4149 , time 76.8 sec\n"
     ]
    },
    {
     "name": "stderr",
     "output_type": "stream",
     "text": [
      "100%|███████████| 118/118 [01:16<00:00,  1.55it/s]\n",
      "  0%|                     | 0/118 [00:00<?, ?it/s]"
     ]
    },
    {
     "name": "stdout",
     "output_type": "stream",
     "text": [
      "epoch 48, train loss 121.3013 , time 76.2 sec\n"
     ]
    },
    {
     "name": "stderr",
     "output_type": "stream",
     "text": [
      "100%|███████████| 118/118 [01:15<00:00,  1.56it/s]"
     ]
    },
    {
     "name": "stdout",
     "output_type": "stream",
     "text": [
      "epoch 49, train loss 121.3082 , time 75.8 sec\n"
     ]
    },
    {
     "name": "stderr",
     "output_type": "stream",
     "text": [
      "\n"
     ]
    }
   ],
   "source": [
    "print(\"training on \", device)\n",
    "for epoch in range(max_epochs):\n",
    "\n",
    "    train_loss, n, start = 0.0, 0, time.time()\n",
    "    for X, y in tqdm(train_iter, ncols = 50):\n",
    "        X = X.to(device)\n",
    "        y = y.to(device)\n",
    "        X_hat, mean, logvar = net(X, y)\n",
    "\n",
    "        l = loss(X, X_hat, mean, logvar).to(device)\n",
    "        optimizer.zero_grad()\n",
    "        l.backward()\n",
    "        optimizer.step()\n",
    "\n",
    "        train_loss += l.cpu().item()\n",
    "        n += X.shape[0]\n",
    "\n",
    "    train_loss /= n\n",
    "    print('epoch %d, train loss %.4f , time %.1f sec'\n",
    "          % (epoch, train_loss, time.time() - start))\n",
    "    \n",
    "    adjust_lr(optimizer)"
   ]
  },
  {
   "cell_type": "code",
   "execution_count": 124,
   "metadata": {},
   "outputs": [
    {
     "data": {
      "image/png": "[encoded data removed]",
      "text/plain": [
       "<Figure size 432x288 with 50 Axes>"
      ]
     },
     "metadata": {
      "needs_background": "light"
     },
     "output_type": "display_data"
    }
   ],
   "source": [
    "from matplotlib import cm\n",
    "\n",
    "with torch.no_grad():\n",
    "    x = net.generate(torch.tensor([list(range(10))] * 5).clone().view(-1))\n",
    "    \n",
    "for i in range(50):\n",
    "    plt.subplot(5, 10, i+1)\n",
    "    plt.axis(\"off\")\n",
    "    plt.imshow(x[i].squeeze(0).cpu().numpy(), cm.gray)"
   ]
  },
  {
   "cell_type": "code",
   "execution_count": null,
   "metadata": {},
   "outputs": [],
   "source": []
  }
 ],
 "metadata": {
  "kernelspec": {
   "display_name": "Python 3",
   "language": "python",
   "name": "python3"
  },
  "language_info": {
   "codemirror_mode": {
    "name": "ipython",
    "version": 3
   },
   "file_extension": ".py",
   "mimetype": "text/x-python",
   "name": "python",
   "nbconvert_exporter": "python",
   "pygments_lexer": "ipython3",
   "version": "3.7.3"
  }
 },
 "nbformat": 4,
 "nbformat_minor": 2
}
